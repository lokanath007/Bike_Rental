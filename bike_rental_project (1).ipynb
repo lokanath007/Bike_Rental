{
 "cells": [
  {
   "cell_type": "code",
   "execution_count": null,
   "metadata": {},
   "outputs": [],
   "source": [
    "import os"
   ]
  },
  {
   "cell_type": "code",
   "execution_count": null,
   "metadata": {},
   "outputs": [],
   "source": [
    "os.chdir(\"F:/Python/edwisor\")"
   ]
  },
  {
   "cell_type": "code",
   "execution_count": null,
   "metadata": {},
   "outputs": [],
   "source": [
    "os.getcwd()"
   ]
  },
  {
   "cell_type": "code",
   "execution_count": null,
   "metadata": {},
   "outputs": [],
   "source": [
    "import pandas as pd # data processing, CSV file I/O (e.g. pd.read_csv)\n",
    "import numpy as np # linear algebra\n",
    "import matplotlib.pyplot as plt # some plotting!\n",
    "import seaborn as sns # so For Plots!\n",
    "from  scipy import stats #import chi2_contigency #  for Chi square Test\n",
    "from random import randrange, uniform\n",
    "import datetime as dt\n",
    "from sklearn.tree import DecisionTreeRegressor\n",
    "import statsmodels.api as sm\n",
    "from sklearn.ensemble import RandomForestRegressor\n",
    "from  matplotlib import pyplot"
   ]
  },
  {
   "cell_type": "code",
   "execution_count": null,
   "metadata": {},
   "outputs": [],
   "source": [
    "from sklearn.model_selection import KFold"
   ]
  },
  {
   "cell_type": "code",
   "execution_count": null,
   "metadata": {},
   "outputs": [],
   "source": [
    "###########loading dataset####################\n",
    "bike_train = pd.read_csv(\"day1-csv.csv\")"
   ]
  },
  {
   "cell_type": "code",
   "execution_count": null,
   "metadata": {},
   "outputs": [],
   "source": [
    "bike_train"
   ]
  },
  {
   "cell_type": "code",
   "execution_count": null,
   "metadata": {},
   "outputs": [],
   "source": [
    "\n",
    "#understanding of data\n",
    "bike_train.shape"
   ]
  },
  {
   "cell_type": "code",
   "execution_count": null,
   "metadata": {},
   "outputs": [],
   "source": [
    "############exploratory data analysis#######################\n",
    "bike_train['season']= bike_train['season'].astype('category')\n",
    "bike_train['yr']=bike_train['yr'].astype('int')\n",
    "bike_train['mnth']=bike_train['mnth'].astype('category')\n",
    "bike_train['holiday']=bike_train['holiday'].astype('int')\n",
    "bike_train['workingday']=bike_train['workingday'].astype('int')\n",
    "bike_train['weekday']=bike_train['weekday'].astype('category')\n",
    "bike_train['weathersit']=bike_train['weathersit'].astype('category')\n",
    "d1=bike_train['dteday'].copy()\n",
    "\n",
    "bike_train['dteday']=d1\n",
    "bike_train['dteday']=bike_train['dteday'].astype('category')\n",
    "bike_train = bike_train.drop(['instant','casual', 'registered','dteday'], axis=1)"
   ]
  },
  {
   "cell_type": "code",
   "execution_count": null,
   "metadata": {},
   "outputs": [],
   "source": [
    "bike_train.shape"
   ]
  },
  {
   "cell_type": "code",
   "execution_count": null,
   "metadata": {},
   "outputs": [],
   "source": [
    "bike_train.info();"
   ]
  },
  {
   "cell_type": "code",
   "execution_count": null,
   "metadata": {},
   "outputs": [],
   "source": [
    "#It  shows  variables like 'mnth','season','weekday','weathersit' are \n",
    "#catogical variabless  and already encoded\n",
    "#Nummeric  vaiables like 'temp','atem','hum','windspeed' are \n",
    "#standardized form\n",
    "#getting the columns name\n",
    "bike_train.columns"
   ]
  },
  {
   "cell_type": "code",
   "execution_count": null,
   "metadata": {},
   "outputs": [],
   "source": [
    "#target variable is 'cnt' and other variables are independent  variable(or predictors)\n",
    "#getting the structure of dataset\n",
    "type(bike_train)"
   ]
  },
  {
   "cell_type": "code",
   "execution_count": null,
   "metadata": {},
   "outputs": [],
   "source": [
    "#getting the rows of dataset\n",
    "bike_train.head()"
   ]
  },
  {
   "cell_type": "code",
   "execution_count": null,
   "metadata": {},
   "outputs": [],
   "source": [
    "############Missing value analysis#################\n",
    "missing_val = pd.DataFrame(bike_train.isnull().sum())"
   ]
  },
  {
   "cell_type": "code",
   "execution_count": null,
   "metadata": {},
   "outputs": [],
   "source": [
    "#reset index\n",
    "missing_val = missing_val.reset_index()"
   ]
  },
  {
   "cell_type": "code",
   "execution_count": null,
   "metadata": {},
   "outputs": [],
   "source": [
    "#rename variable\n",
    "missing_val = missing_val.rename(columns={'index':'variables',0:'missing_percentage'})"
   ]
  },
  {
   "cell_type": "code",
   "execution_count": null,
   "metadata": {},
   "outputs": [],
   "source": [
    "##################################################### Univariate Analysis##########################################\n",
    "# Target variable  analysis\n",
    "\n",
    "#descriptive statistics summary\n",
    "bike_train['cnt'].describe()\n",
    "\n",
    "#Check whether target variable is normal or not\n",
    "sns.distplot(bike_train['cnt']);\n",
    "\n",
    "print(\"Skewness: %f\" % bike_train['cnt'].skew())\n",
    "print(\"Kurtosis: %f\" % bike_train['cnt'].kurt())"
   ]
  },
  {
   "cell_type": "code",
   "execution_count": null,
   "metadata": {},
   "outputs": [],
   "source": [
    "#Distribution  independent numeric variables \n",
    "#Check whether  variable 'temp'is normal or not\n",
    "sns.distplot(bike_train['temp']);\n",
    "#bike_train['temp'].std()\n",
    "print(\"Skewness: %f\" % bike_train['temp'].skew())\n",
    "print(\"Kurtosis: %f\" % bike_train['temp'].kurt())"
   ]
  },
  {
   "cell_type": "code",
   "execution_count": null,
   "metadata": {},
   "outputs": [],
   "source": [
    "#Check whether  variable 'atemp'is normal or not\n",
    "sns.distplot(bike_train['atemp']);\n",
    "\n",
    "print(\"Skewness: %f\" % bike_train['atemp'].skew())\n",
    "print(\"Kurtosis: %f\" % bike_train['atemp'].kurt())"
   ]
  },
  {
   "cell_type": "code",
   "execution_count": null,
   "metadata": {},
   "outputs": [],
   "source": [
    "#Check whether  variable 'hum'is normal or not\n",
    "sns.distplot(bike_train['hum']);\n",
    "\n",
    "print(\"Skewness: %f\" % bike_train['hum'].skew())\n",
    "print(\"Kurtosis: %f\" % bike_train['hum'].kurt())"
   ]
  },
  {
   "cell_type": "code",
   "execution_count": null,
   "metadata": {},
   "outputs": [],
   "source": [
    "#Check whether  variable 'windspeed'is normal or not\n",
    "sns.distplot(bike_train['windspeed']);\n",
    "\n",
    "print(\"Skewness: %f\" % bike_train['windspeed'].skew())\n",
    "print(\"Kurtosis: %f\" % bike_train['windspeed'].kurt())"
   ]
  },
  {
   "cell_type": "code",
   "execution_count": null,
   "metadata": {},
   "outputs": [],
   "source": [
    "#Here Skewness is very less so target variable('cnt')  is normally distributed"
   ]
  },
  {
   "cell_type": "code",
   "execution_count": null,
   "metadata": {},
   "outputs": [],
   "source": [
    "# Visualize categorical Variable 'mnth' with target variable 'cnt'"
   ]
  },
  {
   "cell_type": "code",
   "execution_count": null,
   "metadata": {},
   "outputs": [],
   "source": [
    "bike_train['weekday'].value_counts()\n"
   ]
  },
  {
   "cell_type": "code",
   "execution_count": null,
   "metadata": {},
   "outputs": [],
   "source": [
    "#Now draw box plot between 'mnth' and 'cnt' variable\n",
    "sns.catplot(x=\"mnth\",y =\"cnt\", kind=\"box\", data=bike_train);"
   ]
  },
  {
   "cell_type": "code",
   "execution_count": null,
   "metadata": {},
   "outputs": [],
   "source": [
    "#Now draw box plot between 'weekday' and 'cnt' variable\n",
    "sns.catplot(x=\"weekday\", y=\"cnt\", kind=\"box\", data=bike_train);"
   ]
  },
  {
   "cell_type": "code",
   "execution_count": null,
   "metadata": {},
   "outputs": [],
   "source": [
    "#Now draw box plot between 'weathersit' and 'cnt' variable\n",
    "sns.catplot(x=\"weathersit\", y=\"cnt\", kind=\"box\", data=bike_train);"
   ]
  },
  {
   "cell_type": "code",
   "execution_count": null,
   "metadata": {},
   "outputs": [],
   "source": [
    "# *****************bivariate  relationship between numeric variables****************************\n",
    "#relation between Numerical Variable 'temp' and target variable 'cnt'\n",
    "\n",
    "bike_train['temp'].value_counts()\n",
    "\n",
    "#Now draw scatter plot between 'temp' and 'cnt' variables\n",
    "\n",
    "var = 'temp'\n",
    "data = pd.concat([bike_train['cnt'], bike_train[var]], axis=1)\n",
    "data.plot.scatter(x=var, y='cnt', ylim=(0,9000));\n",
    "\n",
    "# It is showing  there is good relation between 'temp' and 'cnt'"
   ]
  },
  {
   "cell_type": "code",
   "execution_count": null,
   "metadata": {},
   "outputs": [],
   "source": [
    "#relation between Numerical Variable 'atemp' and target variable 'cnt'\n",
    "\n",
    "bike_train['atemp'].value_counts()\n",
    "\n",
    "#Now draw scatter plot between 'temp' and 'cnt' variables\n",
    "\n",
    "var = 'atemp'\n",
    "data = pd.concat([bike_train['cnt'], bike_train[var]], axis=1)\n",
    "data.plot.scatter(x=var, y='cnt', ylim=(0,9000))\n",
    "\n",
    "# It is showing  there is good relation between 'atemp' and 'cnt'"
   ]
  },
  {
   "cell_type": "code",
   "execution_count": null,
   "metadata": {},
   "outputs": [],
   "source": [
    "#relation between Numerical Variable 'hum' and target variable 'cnt'\n",
    "\n",
    "bike_train['hum'].value_counts()\n",
    "\n",
    "#Now draw scatter plot between 'hum' and 'cnt' variables\n",
    "\n",
    "var = 'hum'\n",
    "data = pd.concat([bike_train['cnt'], bike_train[var]], axis=1)\n",
    "data.plot.scatter(x=var, y='cnt', ylim=(0,9000));\n",
    "\n",
    "# It is showing  there is average relation between 'atemp' and 'cnt'"
   ]
  },
  {
   "cell_type": "code",
   "execution_count": null,
   "metadata": {},
   "outputs": [],
   "source": [
    "#relation between Numerical Variable 'windspeed' and target variable 'cnt'\n",
    "\n",
    "bike_train['windspeed'].value_counts()\n",
    "\n",
    "#Now draw scatter plot between 'windspeed' and 'cnt' variables\n",
    "\n",
    "var = 'windspeed'\n",
    "data = pd.concat([bike_train['cnt'], bike_train[var]], axis=1)\n",
    "data.plot.scatter(x=var, y='cnt', ylim=(0,9000));\n",
    "\n",
    "# It is showing  there is nagative relation between 'windspeed' and 'cnt'"
   ]
  },
  {
   "cell_type": "code",
   "execution_count": null,
   "metadata": {},
   "outputs": [],
   "source": [
    "#box plot 'Weekdays' with 'CNT'\n",
    "var_weekdays = 'weekday'\n",
    "data = pd.concat([bike_train['cnt'], bike_train[var_weekdays]], axis=1)\n",
    "f, ax = plt.subplots(figsize=(8, 6))\n",
    "fig = sns.boxplot(x=var_weekdays, y=\"cnt\", data=data)\n",
    "fig.axis(ymin=0, ymax=9000);\n",
    "\n",
    "#below Boxplot is saying that for all the weekdays median in between 4000-5000"
   ]
  },
  {
   "cell_type": "code",
   "execution_count": null,
   "metadata": {},
   "outputs": [],
   "source": [
    "#box plot 'weekends' with 'CNT'\n",
    "var_holiday = 'holiday'\n",
    "data = pd.concat([bike_train['cnt'], bike_train[var_holiday]], axis=1)\n",
    "f, ax = plt.subplots(figsize=(8, 6))\n",
    "fig = sns.boxplot(x=var_holiday, y=\"cnt\", data=data)\n",
    "fig.axis(ymin=0, ymax=9000);\n",
    "\n",
    "#below Boxplot is saying that median  high on  holidays when compare to weekdays"
   ]
  },
  {
   "cell_type": "code",
   "execution_count": null,
   "metadata": {},
   "outputs": [],
   "source": [
    "######################################### Outlier Analysis #######################################\n",
    "\n",
    "\n",
    "#saving numeric values#\n",
    "cnames=[\"temp\",\"atemp\",\"hum\",\"windspeed\"]\n",
    "#ploting boxplotto visualize outliers#\n",
    "plt.boxplot(bike_train['temp']);"
   ]
  },
  {
   "cell_type": "code",
   "execution_count": null,
   "metadata": {},
   "outputs": [],
   "source": [
    "plt.boxplot(bike_train['atemp']);"
   ]
  },
  {
   "cell_type": "code",
   "execution_count": null,
   "metadata": {},
   "outputs": [],
   "source": [
    "plt.boxplot(bike_train['hum']);"
   ]
  },
  {
   "cell_type": "code",
   "execution_count": null,
   "metadata": {},
   "outputs": [],
   "source": [
    "plt.boxplot(bike_train['windspeed']);"
   ]
  },
  {
   "cell_type": "code",
   "execution_count": null,
   "metadata": {},
   "outputs": [],
   "source": [
    "for i in cnames:\n",
    "    print(i)\n",
    "    q3,q1 = np.percentile(bike_train.loc[:,i],[75,25])\n",
    "    iqr = q3-q1\n",
    "    min=q1-(iqr*1.5)\n",
    "    max=q3+(iqr*1.5)\n",
    "    print(min)\n",
    "    print(max)"
   ]
  },
  {
   "cell_type": "code",
   "execution_count": null,
   "metadata": {},
   "outputs": [],
   "source": [
    "bike_train = bike_train.drop(bike_train[bike_train.loc[:,i]<min].index)\n",
    "bike_train = bike_train.drop(bike_train[bike_train.loc[:,i]>max].index)"
   ]
  },
  {
   "cell_type": "code",
   "execution_count": null,
   "metadata": {},
   "outputs": [],
   "source": [
    "bike_train.shape"
   ]
  },
  {
   "cell_type": "code",
   "execution_count": null,
   "metadata": {},
   "outputs": [],
   "source": [
    "#############Feature Selection ##################\n",
    "df_corr = bike_train\n",
    "#Set the width and hieght of the plot\n",
    "f, ax = plt.subplots(figsize=(7, 5))\n",
    "#Generate correlation matrix\n",
    "corr = df_corr.corr()\n",
    "#Plot using seaborn library\n",
    "sns.heatmap(corr, mask=np.zeros_like(corr, dtype=np.bool), cmap=sns.diverging_palette(220, 10, as_cmap=True),\n",
    "            square=True, ax=ax);"
   ]
  },
  {
   "cell_type": "code",
   "execution_count": null,
   "metadata": {},
   "outputs": [],
   "source": [
    "#droping corelated variable\n",
    "bike_train = bike_train.drop(['atemp'], axis=1)"
   ]
  },
  {
   "cell_type": "code",
   "execution_count": null,
   "metadata": {},
   "outputs": [],
   "source": [
    "#diividing  Test and train data  using skilearn   train_test_split \n",
    "\n",
    "from sklearn.model_selection import train_test_split\n",
    "\n",
    "train, test = train_test_split(bike_train, test_size=0.2)\n",
    "\n",
    "train.shape\n",
    "\n",
    "#train.head()\n",
    "#test.shape\n",
    "#train.iloc[:,0:11]\n",
    "#test.head()\n",
    "#train.iloc[:,11]"
   ]
  },
  {
   "cell_type": "code",
   "execution_count": null,
   "metadata": {},
   "outputs": [],
   "source": [
    "train_features_one = train[['season','yr','mnth','holiday','weekday','weathersit','temp','windspeed','day']].values\n",
    "train_target_feature = train['cnt'].values\n",
    "test_feature = test[['season','yr','mnth','holiday','weekday','weathersit','temp','windspeed','day']].values\n",
    "test_target_feature= test['cnt'].values\n",
    "train_features_one\n",
    "#target_feature"
   ]
  },
  {
   "cell_type": "code",
   "execution_count": null,
   "metadata": {},
   "outputs": [],
   "source": [
    "# Implement  decision tree algorithm\n",
    "# Fit your first decision tree:fit_DT\n",
    "fit_DT=  DecisionTreeRegressor(max_depth=2, criterion = 'mse').fit(train_features_one, train_target_feature)\n",
    "print(fit_DT)"
   ]
  },
  {
   "cell_type": "code",
   "execution_count": null,
   "metadata": {},
   "outputs": [],
   "source": [
    "#Apply model on test data\n",
    "predictions_DT = fit_DT.predict(test_feature)\n",
    "#print(predictions_DT)\n",
    "\n",
    "# predition   by using predict method"
   ]
  },
  {
   "cell_type": "code",
   "execution_count": null,
   "metadata": {},
   "outputs": [],
   "source": [
    "#Calculate MAPE\n",
    "def MAPE(y_true, y_pred): \n",
    "    mape = np.mean(np.abs((y_true - y_pred) / y_true))*100\n",
    "    return mape\n",
    "\n",
    "MAPE(test_target_feature, predictions_DT)\n",
    "#error: 23.65117086245279"
   ]
  },
  {
   "cell_type": "code",
   "execution_count": null,
   "metadata": {},
   "outputs": [],
   "source": [
    "#RSS - Residual Sum \n",
    "#test_target_feature,predictions_DT\n",
    "rss= ((test_target_feature-predictions_DT)**2).sum()\n",
    "print(rss)\n",
    "\n",
    "MSE = np.mean((test_target_feature-predictions_DT)**2)\n",
    "print(MSE)\n",
    "\n",
    "#RMSE\n",
    "RMSE=np.sqrt(MSE)\n",
    "print(RMSE)\n"
   ]
  },
  {
   "cell_type": "code",
   "execution_count": null,
   "metadata": {},
   "outputs": [],
   "source": [
    "#************************************ Random Forest ************************************************\n",
    "#here  same features are taking  what we took for the Decision Tree\n",
    "RF_model = RandomForestRegressor(n_estimators= 500, random_state=100).fit(train_features_one,train_target_feature)\n",
    "#print(Rf_model)\n",
    "\n",
    "# Predict the model using predict funtion\n",
    "\n",
    "RF_predict= RF_model.predict(test_feature)\n",
    "\n",
    "#print(RF_predict)"
   ]
  },
  {
   "cell_type": "code",
   "execution_count": null,
   "metadata": {},
   "outputs": [],
   "source": [
    "#Evaluate Random forest using  MAPE \n",
    "\n",
    "MAPE(test_target_feature,RF_predict)\n",
    "\n",
    "#Error rate is 12.807161953851548\n",
    "\n",
    "#Evaluate  Model usinf  RMSE\n",
    "\n",
    "#RMSE(test_target_feature,RF_predict)\n",
    "\n",
    "#RMSE: 674.1387450178623"
   ]
  },
  {
   "cell_type": "code",
   "execution_count": null,
   "metadata": {},
   "outputs": [],
   "source": [
    "RF_model2 = RandomForestRegressor(n_estimators= 200, random_state=100).fit(train_features_one,train_target_feature)\n",
    "#print(Rf_model)\n",
    "\n",
    "# Predict the model using predict funtion\n",
    "\n",
    "RF_predict_two= RF_model2.predict(test_feature)\n",
    "\n",
    "#print(RF_predict)"
   ]
  },
  {
   "cell_type": "code",
   "execution_count": null,
   "metadata": {},
   "outputs": [],
   "source": [
    "#Evaluate Random forest using  MAPE \n",
    "\n",
    "MAPE(test_target_feature,RF_predict_two)\n",
    "\n",
    "#Error rate is 12.876804087080373\n",
    "\n",
    "#Evaluate  Model usinf  RMSE\n",
    "\n",
    "#RMSE(test_target_feature,RF_predict_two)\n",
    "\n",
    "#679.998053521999"
   ]
  },
  {
   "cell_type": "code",
   "execution_count": null,
   "metadata": {},
   "outputs": [],
   "source": [
    "############################################# Linear Regression ############################\n",
    "#here  same features are taking  what we took for the Linear Regression\n",
    "#develop Linear Regression model using sm.\n",
    "#train_target_feature = pd.DataFrame(train_target_feature)\n",
    "#train_features_one = pd.DataFrame(train_features_one)\n",
    "linear_regression_model = sm.OLS(train_target_feature.astype(float), train_features_one.astype(float)).fit()\n",
    "\n",
    "#Summary of model\n",
    "linear_regression_model.summary()\n"
   ]
  },
  {
   "cell_type": "code",
   "execution_count": null,
   "metadata": {},
   "outputs": [],
   "source": [
    "predict_LR = linear_regression_model.predict(test_feature)\n",
    "#print(predict_LR)"
   ]
  },
  {
   "cell_type": "code",
   "execution_count": null,
   "metadata": {},
   "outputs": [],
   "source": [
    "#evaluate model using MAPE\n",
    "\n",
    "MAPE(test_target_feature,predict_LR)\n",
    "#MAPE  is 19.871597395532454 \n",
    "\n",
    "#Predict the model using  RMSE\n",
    "\n",
    "#RMSE(test_target_feature,predict_LR)\n",
    "\n",
    "#RMSE  is 926.346579988094 \n"
   ]
  },
  {
   "cell_type": "code",
   "execution_count": null,
   "metadata": {},
   "outputs": [],
   "source": []
  }
 ],
 "metadata": {
  "kernelspec": {
   "display_name": "Python 3",
   "language": "python",
   "name": "python3"
  },
  "language_info": {
   "codemirror_mode": {
    "name": "ipython",
    "version": 3
   },
   "file_extension": ".py",
   "mimetype": "text/x-python",
   "name": "python",
   "nbconvert_exporter": "python",
   "pygments_lexer": "ipython3",
   "version": "3.7.3"
  }
 },
 "nbformat": 4,
 "nbformat_minor": 2
}
